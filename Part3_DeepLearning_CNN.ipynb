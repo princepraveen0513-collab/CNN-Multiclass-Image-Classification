{
  "nbformat": 4,
  "nbformat_minor": 0,
  "metadata": {
    "colab": {
      "provenance": [],
      "gpuType": "T4"
    },
    "kernelspec": {
      "name": "python3",
      "display_name": "Python 3"
    },
    "language_info": {
      "name": "python"
    },
    "accelerator": "GPU"
  },
  "cells": [
    {
      "cell_type": "markdown",
      "source": [
        "## 🚀 **Optimization & Training Strategy - Debjani**\n",
        "In this experiment, we will **use the same dataset and preprocessing pipeline** as previous experiments.  \n",
        "We will **build on Kathryn's best model (Model 1)**, which had **Dropout = 0.3, No Weight Decay, and No Batch Norm**.  \n",
        "The goal is to **optimize training performance** by fine-tuning the **learning rate, optimizer, and batch size** to achieve faster convergence and better generalization.\n"
      ],
      "metadata": {
        "id": "ygCdfjWCRdF5"
      }
    },
    {
      "cell_type": "code",
      "source": [
        "from google.colab import drive\n",
        "drive.mount('/content/drive')"
      ],
      "metadata": {
        "colab": {
          "base_uri": "https://localhost:8080/"
        },
        "id": "V-zBPzn9Le74",
        "outputId": "0030e2b0-b853-449e-fd7f-3e68d4dd0469"
      },
      "execution_count": null,
      "outputs": [
        {
          "output_type": "stream",
          "name": "stdout",
          "text": [
            "Drive already mounted at /content/drive; to attempt to forcibly remount, call drive.mount(\"/content/drive\", force_remount=True).\n"
          ]
        }
      ]
    },
    {
      "cell_type": "code",
      "execution_count": null,
      "metadata": {
        "colab": {
          "base_uri": "https://localhost:8080/"
        },
        "id": "mSvuEVlKQ6h6",
        "outputId": "b88f341a-414d-48cb-d833-896b281764d0"
      },
      "outputs": [
        {
          "output_type": "stream",
          "name": "stdout",
          "text": [
            "Dataset extracted to /content/drive/MyDrive/clothes_dataset\n",
            "Extracted files: ['Clothes_Dataset']\n"
          ]
        }
      ],
      "source": [
        "import zipfile\n",
        "import os\n",
        "\n",
        "# Mount Google Drive\n",
        "from google.colab import drive\n",
        "\n",
        "# Path to the ZIP file in Google Drive\n",
        "zip_file_path = \"/content/drive/MyDrive/clothes.zip\"\n",
        "\n",
        "# Define the extraction directory\n",
        "extraction_dir = \"/content/drive/MyDrive/clothes.zip\"\n",
        "\n",
        "# Extract the ZIP file\n",
        "with zipfile.ZipFile(zip_file_path, 'r') as zip_ref:\n",
        "    zip_ref.extractall(extraction_dir)\n",
        "\n",
        "# Verify the extracted contents\n",
        "print(f\"Dataset extracted to {extraction_dir}\")\n",
        "print(\"Extracted files:\", os.listdir(extraction_dir))\n"
      ]
    },
    {
      "cell_type": "code",
      "source": [
        "import torch\n",
        "import torchvision\n",
        "import torchvision.transforms as transforms\n",
        "from torch.utils.data import DataLoader, random_split\n",
        "from torchvision.datasets import ImageFolder\n",
        "import os\n",
        "import random\n",
        "import matplotlib.pyplot as plt\n",
        "from collections import Counter\n",
        "\n",
        "# Set seed for reproducibility\n",
        "seed = 42\n",
        "torch.manual_seed(seed)\n",
        "random.seed(seed)\n",
        "\n",
        "# Define dataset directory (Fixing nested folder issue)\n",
        "root_dir = \"/content/drive/MyDrive/clothes_dataset\"\n",
        "dataset_dir = os.path.join(root_dir, \"Clothes_Dataset\")  # Point to the correct folder with class subdirectories\n",
        "\n",
        "# Step 1: Define Data Transformations (Resize + Augmentation)\n",
        "transform = transforms.Compose([\n",
        "    transforms.Resize((128, 128)),  # Resize images to 128x128\n",
        "    transforms.RandomHorizontalFlip(p=0.5),  # Apply horizontal flip for augmentation\n",
        "    transforms.RandomRotation(degrees=15),  # Apply random rotation for augmentation\n",
        "    transforms.ToTensor()  # Convert image to tensor\n",
        "])\n",
        "\n",
        "# Step 2: Load Dataset\n",
        "dataset = ImageFolder(root=dataset_dir, transform=transform)\n",
        "\n",
        "# Step 3: Check Class Distribution\n",
        "def count_images_per_class(directory):\n",
        "    class_counts = {}\n",
        "    for class_name in os.listdir(directory):\n",
        "        class_path = os.path.join(directory, class_name)\n",
        "        if os.path.isdir(class_path):\n",
        "            class_counts[class_name] = len(os.listdir(class_path))\n",
        "    return class_counts\n",
        "\n",
        "class_counts = count_images_per_class(dataset_dir)\n",
        "\n",
        "# Plot Class Distribution\n",
        "plt.figure(figsize=(10, 5))\n",
        "plt.bar(class_counts.keys(), class_counts.values())\n",
        "plt.xticks(rotation=45)\n",
        "plt.xlabel(\"Class\")\n",
        "plt.ylabel(\"Number of Images\")\n",
        "plt.title(\"Class Distribution in Dataset\")\n",
        "plt.show()\n",
        "\n",
        "print(\"Class distribution:\", class_counts)\n",
        "\n",
        "# Step 4: Split into Training & Validation Sets (80-20)\n",
        "train_size = int(0.8 * len(dataset))\n",
        "val_size = len(dataset) - train_size\n",
        "train_dataset, val_dataset = random_split(dataset, [train_size, val_size])\n",
        "\n",
        "# Step 5: Create PyTorch Dataloaders\n",
        "batch_size = 32  # Adjust as needed\n",
        "\n",
        "train_loader = DataLoader(train_dataset, batch_size=batch_size, shuffle=True, num_workers=2, pin_memory=True)\n",
        "val_loader = DataLoader(val_dataset, batch_size=batch_size, shuffle=False, num_workers=2, pin_memory=True)\n",
        "\n",
        "print(f\"✅ Data preprocessed successfully! Training Set: {train_size} images, Validation Set: {val_size} images.\")\n"
      ],
      "metadata": {
        "colab": {
          "base_uri": "https://localhost:8080/",
          "height": 616
        },
        "id": "aSdSnSxxRfya",
        "outputId": "7e071821-07fa-4241-9ff0-507df03ffc86"
      },
      "execution_count": null,
      "outputs": [
        {
          "output_type": "display_data",
          "data": {
            "text/plain": [
              "<Figure size 1000x500 with 1 Axes>"
            ],
            "image/png": "[encoded data removed]"
          },
          "metadata": {}
        },
        {
          "output_type": "stream",
          "name": "stdout",
          "text": [
            "Class distribution: {'Blazer': 500, 'Celana_Panjang': 500, 'Celana_Pendek': 500, 'Gaun': 500, 'Hoodie': 500, 'Jaket': 500, 'Jaket_Denim': 500, 'Jaket_Olahraga': 500, 'Jeans': 500, 'Kaos': 500, 'Kemeja': 500, 'Mantel': 500, 'Polo': 500, 'Rok': 500, 'Sweter': 500}\n",
            "✅ Data preprocessed successfully! Training Set: 6000 images, Validation Set: 1500 images.\n"
          ]
        }
      ]
    },
    {
      "cell_type": "markdown",
      "source": [
        "# 🔍 Optimization & Training Strategy - Debjani\n",
        "\n",
        "## **Objective: Optimize Training Performance**\n",
        "The goal of this experiment is to optimize the **training process** by fine-tuning:\n",
        "- **Learning Rate (LR)**\n",
        "- **Optimizer choice**\n",
        "- **Batch Size**\n",
        "\n",
        "## **Base Model Selection**\n",
        "From previous experiments:  \n",
        "✅ **Best CNN architecture from Prince** (Leaky ReLU, Avg Pooling, Xavier Init)  \n",
        "✅ **Best regularization setup from Kathryn (Model 1)** (Dropout 0.3, No Weight Decay, No Batch Norm)  \n",
        "💡 This means we are **only optimizing training strategy** now.\n",
        "\n",
        "## **Tuning Choices**\n",
        "### **1️⃣ Learning Rate (LR)**\n",
        "- Controls how fast the model updates its weights.\n",
        "- We will test:\n",
        "  - **0.001 (default, standard step size)**\n",
        "  - **0.0005 (smaller steps, may improve stability)**\n",
        "\n",
        "### **2️⃣ Optimizer Choice**\n",
        "- Determines how gradients are used to update model weights.\n",
        "- We will compare:\n",
        "  - **Adam** (adaptive learning, faster convergence)\n",
        "  - **SGD** (traditional optimizer, better generalization)\n",
        "\n",
        "### **3️⃣ Batch Size**\n",
        "- Defines how many images the model processes before updating weights.\n",
        "- We will test:\n",
        "  - **32 (default, balanced approach)**\n",
        "  - **64 (larger, potentially speeds up training)**\n",
        "\n",
        "## **Planned Experiments**\n",
        "| Model | Learning Rate | Optimizer | Batch Size |\n",
        "|-------|--------------|-----------|------------|\n",
        "| **Debjani_Model_1** | 0.001 | Adam | 32 |\n",
        "| **Debjani_Model_2** | 0.0005 | SGD | 64 |\n",
        "\n",
        "## **Pros & Cons of This Approach**\n",
        "✅ **Pros:**\n",
        "- Helps determine **optimal training speed vs. stability**.\n",
        "- Different optimizers can **affect convergence & final accuracy**.\n",
        "- **Batch size impacts performance & generalization**—testing different sizes ensures a balanced trade-off.\n",
        "\n",
        "❌ **Cons:**\n",
        "- **SGD may require additional tuning (momentum, LR scheduling).**\n",
        "- **Larger batch sizes require more memory**, potentially causing GPU constraints.\n",
        "- **Very small learning rates may slow down training too much.**\n",
        "\n",
        "## **Expected Outcome**\n",
        "By adjusting the **optimizer, learning rate, and batch size**, we aim to **find the best training configuration** that results in **fast convergence, stable training, and improved performance.**\n"
      ],
      "metadata": {
        "id": "cmF0IFVjRj07"
      }
    },
    {
      "cell_type": "code",
      "source": [
        "import torch\n",
        "import torch.nn as nn\n",
        "import torch.optim as optim\n",
        "from torch.utils.data import DataLoader\n",
        "import wandb\n",
        "import os\n",
        "from sklearn.metrics import accuracy_score, precision_score, recall_score, f1_score\n",
        "\n",
        "# ✅ Ensure previous run is finished before starting a new one\n",
        "wandb.login()\n",
        "wandb.finish()\n",
        "\n",
        "# ✅ Initialize Weights & Biases for this run\n",
        "wandb.init(project=\"cnn-clothes-classifier\", entity=\"usf-guardians\", name=\"GPU_Debjani_Model_11\", reinit=True)\n",
        "\n",
        "# ✅ Define CNN Model (Best from Prince + Kathryn)\n",
        "class CNN_Model(nn.Module):\n",
        "    def __init__(self, num_classes):\n",
        "        super(CNN_Model, self).__init__()\n",
        "\n",
        "        self.convs = nn.ModuleList([\n",
        "            nn.Conv2d(3, 64, kernel_size=3, padding=1),\n",
        "            nn.Conv2d(64, 128, kernel_size=3, padding=1),\n",
        "            nn.Conv2d(128, 256, kernel_size=3, padding=1)\n",
        "        ])\n",
        "\n",
        "        self.pool = nn.AvgPool2d(2, 2)\n",
        "        self.leaky_relu = nn.LeakyReLU(0.01)\n",
        "        self.dropout = nn.Dropout(0.3)  # Based on Kathryn's best model\n",
        "\n",
        "        self.fc1 = nn.Linear(256 * 16 * 16, 512)\n",
        "        self.fc2 = nn.Linear(512, num_classes)\n",
        "\n",
        "        self._initialize_weights()\n",
        "\n",
        "    def forward(self, x):\n",
        "        for conv in self.convs:\n",
        "            x = self.pool(self.leaky_relu(conv(x)))\n",
        "        x = x.view(x.size(0), -1)\n",
        "        x = self.dropout(self.leaky_relu(self.fc1(x)))\n",
        "        x = self.fc2(x)\n",
        "        return x\n",
        "\n",
        "    def _initialize_weights(self):\n",
        "        for m in self.modules():\n",
        "            if isinstance(m, (nn.Conv2d, nn.Linear)):\n",
        "                nn.init.xavier_normal_(m.weight)\n",
        "                if m.bias is not None:\n",
        "                    nn.init.zeros_(m.bias)\n",
        "\n",
        "# ✅ Load Dataset\n",
        "batch_size = 32\n",
        "num_classes = len(os.listdir(\"/content/drive/MyDrive/clothes_dataset/Clothes_Dataset\"))\n",
        "\n",
        "train_loader = DataLoader(train_dataset, batch_size=batch_size, shuffle=True, num_workers=2)\n",
        "val_loader = DataLoader(val_dataset, batch_size=batch_size, shuffle=False, num_workers=2)\n",
        "\n",
        "# ✅ Train Model\n",
        "device = torch.device(\"cuda\" if torch.cuda.is_available() else \"cpu\")\n",
        "model = CNN_Model(num_classes).to(device)\n",
        "criterion = nn.CrossEntropyLoss()\n",
        "optimizer = optim.Adam(model.parameters(), lr=0.001)  # Using Adam with LR 0.001\n",
        "\n",
        "train_losses, val_losses, f1_scores = [], [], []\n",
        "\n",
        "for epoch in range(10):\n",
        "    print(f\"Epoch {epoch+1}/10: Training...\")\n",
        "    model.train()\n",
        "    train_loss = 0\n",
        "    y_true, y_pred = [], []\n",
        "\n",
        "    for images, labels in train_loader:\n",
        "        images, labels = images.to(device), labels.to(device)\n",
        "        optimizer.zero_grad()\n",
        "        outputs = model(images)\n",
        "        loss = criterion(outputs, labels)\n",
        "        loss.backward()\n",
        "        optimizer.step()\n",
        "        train_loss += loss.item()\n",
        "        _, preds = torch.max(outputs, 1)\n",
        "        y_true.extend(labels.cpu().numpy())\n",
        "        y_pred.extend(preds.cpu().numpy())\n",
        "\n",
        "    # Compute metrics\n",
        "    train_accuracy = accuracy_score(y_true, y_pred)\n",
        "    train_f1 = f1_score(y_true, y_pred, average='macro', zero_division=1)\n",
        "\n",
        "    # Validation\n",
        "    model.eval()\n",
        "    val_loss = 0\n",
        "    y_true, y_pred = [], []\n",
        "\n",
        "    with torch.no_grad():\n",
        "        for images, labels in val_loader:\n",
        "            images, labels = images.to(device), labels.to(device)\n",
        "            outputs = model(images)\n",
        "            loss = criterion(outputs, labels)\n",
        "            val_loss += loss.item()\n",
        "            _, preds = torch.max(outputs, 1)\n",
        "            y_true.extend(labels.cpu().numpy())\n",
        "            y_pred.extend(preds.cpu().numpy())\n",
        "\n",
        "    val_accuracy = accuracy_score(y_true, y_pred)\n",
        "    val_f1 = f1_score(y_true, y_pred, average='macro', zero_division=1)\n",
        "\n",
        "    # ✅ Log all metrics\n",
        "    wandb.log({\"epoch\": epoch, \"train_loss\": train_loss / len(train_loader),\n",
        "               \"val_loss\": val_loss / len(val_loader), \"train_f1\": train_f1,\n",
        "               \"val_f1\": val_f1, \"train_accuracy\": train_accuracy, \"val_accuracy\": val_accuracy})\n",
        "\n",
        "wandb.finish()\n",
        "print(\"✅ Finished training Debjani_Model_1!\")\n"
      ],
      "metadata": {
        "colab": {
          "base_uri": "https://localhost:8080/",
          "height": 933
        },
        "id": "lwfr5Qz1RkVy",
        "outputId": "1f55bd2f-cb07-4ba3-c4fb-597792b13554"
      },
      "execution_count": null,
      "outputs": [
        {
          "output_type": "stream",
          "name": "stderr",
          "text": [
            "\u001b[34m\u001b[1mwandb\u001b[0m: \u001b[33mWARNING\u001b[0m Calling wandb.login() after wandb.init() has no effect.\n"
          ]
        },
        {
          "output_type": "display_data",
          "data": {
            "text/plain": [
              "<IPython.core.display.HTML object>"
            ],
            "text/html": []
          },
          "metadata": {}
        },
        {
          "output_type": "display_data",
          "data": {
            "text/plain": [
              "<IPython.core.display.HTML object>"
            ],
            "text/html": [
              " View run <strong style=\"color:#cdcd00\">GPU_Debjani_Model_11</strong> at: <a href='https://wandb.ai/usf-guardians/cnn-clothes-classifier/runs/3504l1dp' target=\"_blank\">https://wandb.ai/usf-guardians/cnn-clothes-classifier/runs/3504l1dp</a><br> View project at: <a href='https://wandb.ai/usf-guardians/cnn-clothes-classifier' target=\"_blank\">https://wandb.ai/usf-guardians/cnn-clothes-classifier</a><br>Synced 5 W&B file(s), 0 media file(s), 0 artifact file(s) and 0 other file(s)"
            ]
          },
          "metadata": {}
        },
        {
          "output_type": "display_data",
          "data": {
            "text/plain": [
              "<IPython.core.display.HTML object>"
            ],
            "text/html": [
              "Find logs at: <code>./wandb/run-20250310_040638-3504l1dp/logs</code>"
            ]
          },
          "metadata": {}
        },
        {
          "output_type": "display_data",
          "data": {
            "text/plain": [
              "<IPython.core.display.HTML object>"
            ],
            "text/html": [
              "Tracking run with wandb version 0.19.7"
            ]
          },
          "metadata": {}
        },
        {
          "output_type": "display_data",
          "data": {
            "text/plain": [
              "<IPython.core.display.HTML object>"
            ],
            "text/html": [
              "Run data is saved locally in <code>/content/wandb/run-20250310_040820-wcvnvxbl</code>"
            ]
          },
          "metadata": {}
        },
        {
          "output_type": "display_data",
          "data": {
            "text/plain": [
              "<IPython.core.display.HTML object>"
            ],
            "text/html": [
              "Syncing run <strong><a href='https://wandb.ai/usf-guardians/cnn-clothes-classifier/runs/wcvnvxbl' target=\"_blank\">GPU_Debjani_Model_11</a></strong> to <a href='https://wandb.ai/usf-guardians/cnn-clothes-classifier' target=\"_blank\">Weights & Biases</a> (<a href='https://wandb.me/developer-guide' target=\"_blank\">docs</a>)<br>"
            ]
          },
          "metadata": {}
        },
        {
          "output_type": "display_data",
          "data": {
            "text/plain": [
              "<IPython.core.display.HTML object>"
            ],
            "text/html": [
              " View project at <a href='https://wandb.ai/usf-guardians/cnn-clothes-classifier' target=\"_blank\">https://wandb.ai/usf-guardians/cnn-clothes-classifier</a>"
            ]
          },
          "metadata": {}
        },
        {
          "output_type": "display_data",
          "data": {
            "text/plain": [
              "<IPython.core.display.HTML object>"
            ],
            "text/html": [
              " View run at <a href='https://wandb.ai/usf-guardians/cnn-clothes-classifier/runs/wcvnvxbl' target=\"_blank\">https://wandb.ai/usf-guardians/cnn-clothes-classifier/runs/wcvnvxbl</a>"
            ]
          },
          "metadata": {}
        },
        {
          "output_type": "stream",
          "name": "stdout",
          "text": [
            "Epoch 1/10: Training...\n",
            "Epoch 2/10: Training...\n",
            "Epoch 3/10: Training...\n",
            "Epoch 4/10: Training...\n",
            "Epoch 5/10: Training...\n",
            "Epoch 6/10: Training...\n",
            "Epoch 7/10: Training...\n",
            "Epoch 8/10: Training...\n",
            "Epoch 9/10: Training...\n",
            "Epoch 10/10: Training...\n"
          ]
        },
        {
          "output_type": "display_data",
          "data": {
            "text/plain": [
              "<IPython.core.display.HTML object>"
            ],
            "text/html": []
          },
          "metadata": {}
        },
        {
          "output_type": "display_data",
          "data": {
            "text/plain": [
              "<IPython.core.display.HTML object>"
            ],
            "text/html": [
              "<br>    <style><br>        .wandb-row {<br>            display: flex;<br>            flex-direction: row;<br>            flex-wrap: wrap;<br>            justify-content: flex-start;<br>            width: 100%;<br>        }<br>        .wandb-col {<br>            display: flex;<br>            flex-direction: column;<br>            flex-basis: 100%;<br>            flex: 1;<br>            padding: 10px;<br>        }<br>    </style><br><div class=\"wandb-row\"><div class=\"wandb-col\"><h3>Run history:</h3><br/><table class=\"wandb\"><tr><td>epoch</td><td>▁▂▃▃▄▅▆▆▇█</td></tr><tr><td>train_accuracy</td><td>▁▃▄▅▆▆▇▇██</td></tr><tr><td>train_f1</td><td>▁▃▄▅▆▆▇▇██</td></tr><tr><td>train_loss</td><td>█▆▅▄▃▃▂▂▁▁</td></tr><tr><td>val_accuracy</td><td>▁▃▄▆▆█████</td></tr><tr><td>val_f1</td><td>▁▃▄▆▆█████</td></tr><tr><td>val_loss</td><td>█▅▅▃▂▁▁▁▂▂</td></tr></table><br/></div><div class=\"wandb-col\"><h3>Run summary:</h3><br/><table class=\"wandb\"><tr><td>epoch</td><td>9</td></tr><tr><td>train_accuracy</td><td>0.67567</td></tr><tr><td>train_f1</td><td>0.67343</td></tr><tr><td>train_loss</td><td>0.97305</td></tr><tr><td>val_accuracy</td><td>0.51733</td></tr><tr><td>val_f1</td><td>0.52164</td></tr><tr><td>val_loss</td><td>1.62395</td></tr></table><br/></div></div>"
            ]
          },
          "metadata": {}
        },
        {
          "output_type": "display_data",
          "data": {
            "text/plain": [
              "<IPython.core.display.HTML object>"
            ],
            "text/html": [
              " View run <strong style=\"color:#cdcd00\">GPU_Debjani_Model_11</strong> at: <a href='https://wandb.ai/usf-guardians/cnn-clothes-classifier/runs/wcvnvxbl' target=\"_blank\">https://wandb.ai/usf-guardians/cnn-clothes-classifier/runs/wcvnvxbl</a><br> View project at: <a href='https://wandb.ai/usf-guardians/cnn-clothes-classifier' target=\"_blank\">https://wandb.ai/usf-guardians/cnn-clothes-classifier</a><br>Synced 5 W&B file(s), 0 media file(s), 0 artifact file(s) and 0 other file(s)"
            ]
          },
          "metadata": {}
        },
        {
          "output_type": "display_data",
          "data": {
            "text/plain": [
              "<IPython.core.display.HTML object>"
            ],
            "text/html": [
              "Find logs at: <code>./wandb/run-20250310_040820-wcvnvxbl/logs</code>"
            ]
          },
          "metadata": {}
        },
        {
          "output_type": "stream",
          "name": "stdout",
          "text": [
            "✅ Finished training Debjani_Model_1!\n"
          ]
        }
      ]
    },
    {
      "cell_type": "markdown",
      "source": [
        "### Run 2"
      ],
      "metadata": {
        "id": "B8t1kCvOTY5C"
      }
    },
    {
      "cell_type": "code",
      "source": [
        "import torch\n",
        "import torch.nn as nn\n",
        "import torch.optim as optim\n",
        "from torch.utils.data import DataLoader\n",
        "import wandb\n",
        "import os\n",
        "from sklearn.metrics import accuracy_score, precision_score, recall_score, f1_score\n",
        "\n",
        "# ✅ Ensure previous run is finished before starting a new one\n",
        "wandb.login()\n",
        "wandb.finish()\n",
        "\n",
        "# ✅ Initialize Weights & Biases for this run\n",
        "wandb.init(project=\"cnn-clothes-classifier\", entity=\"usf-guardians\", name=\"GPU_NDebjani_Model_21\", reinit=True)\n",
        "\n",
        "# ✅ Define CNN Model (Best from Prince + Kathryn)\n",
        "class CNN_Model(nn.Module):\n",
        "    def __init__(self, num_classes):\n",
        "        super(CNN_Model, self).__init__()\n",
        "\n",
        "        self.convs = nn.ModuleList([\n",
        "            nn.Conv2d(3, 64, kernel_size=3, padding=1),\n",
        "            nn.Conv2d(64, 128, kernel_size=3, padding=1),\n",
        "            nn.Conv2d(128, 256, kernel_size=3, padding=1)\n",
        "        ])\n",
        "\n",
        "        self.pool = nn.AvgPool2d(2, 2)\n",
        "        self.leaky_relu = nn.LeakyReLU(0.01)\n",
        "        self.dropout = nn.Dropout(0.3)  # Based on Kathryn's best model\n",
        "\n",
        "        self.fc1 = nn.Linear(256 * 16 * 16, 512)\n",
        "        self.fc2 = nn.Linear(512, num_classes)\n",
        "\n",
        "        self._initialize_weights()\n",
        "\n",
        "    def forward(self, x):\n",
        "        for conv in self.convs:\n",
        "            x = self.pool(self.leaky_relu(conv(x)))\n",
        "        x = x.view(x.size(0), -1)\n",
        "        x = self.dropout(self.leaky_relu(self.fc1(x)))\n",
        "        x = self.fc2(x)\n",
        "        return x\n",
        "\n",
        "    def _initialize_weights(self):\n",
        "        for m in self.modules():\n",
        "            if isinstance(m, (nn.Conv2d, nn.Linear)):\n",
        "                nn.init.xavier_normal_(m.weight)\n",
        "                if m.bias is not None:\n",
        "                    nn.init.zeros_(m.bias)\n",
        "\n",
        "# ✅ Load Dataset\n",
        "batch_size = 64  # Increased batch size\n",
        "num_classes = len(os.listdir(\"/content/drive/MyDrive/clothes_dataset/Clothes_Dataset\"))\n",
        "\n",
        "train_loader = DataLoader(train_dataset, batch_size=batch_size, shuffle=True, num_workers=2)\n",
        "val_loader = DataLoader(val_dataset, batch_size=batch_size, shuffle=False, num_workers=2)\n",
        "\n",
        "# ✅ Train Model\n",
        "device = torch.device(\"cuda\" if torch.cuda.is_available() else \"cpu\")\n",
        "model = CNN_Model(num_classes).to(device)\n",
        "criterion = nn.CrossEntropyLoss()\n",
        "optimizer = optim.SGD(model.parameters(), lr=0.0005, momentum=0.9)  # Using SGD with Momentum\n",
        "\n",
        "train_losses, val_losses, f1_scores = [], [], []\n",
        "\n",
        "for epoch in range(10):\n",
        "    print(f\"Epoch {epoch+1}/10: Training...\")\n",
        "    model.train()\n",
        "    train_loss = 0\n",
        "    y_true, y_pred = [], []\n",
        "\n",
        "    for images, labels in train_loader:\n",
        "        images, labels = images.to(device), labels.to(device)\n",
        "        optimizer.zero_grad()\n",
        "        outputs = model(images)\n",
        "        loss = criterion(outputs, labels)\n",
        "        loss.backward()\n",
        "        optimizer.step()\n",
        "        train_loss += loss.item()\n",
        "        _, preds = torch.max(outputs, 1)\n",
        "        y_true.extend(labels.cpu().numpy())\n",
        "        y_pred.extend(preds.cpu().numpy())\n",
        "\n",
        "    # Compute metrics\n",
        "    train_accuracy = accuracy_score(y_true, y_pred)\n",
        "    train_f1 = f1_score(y_true, y_pred, average='macro', zero_division=1)\n",
        "\n",
        "    # Validation\n",
        "    model.eval()\n",
        "    val_loss = 0\n",
        "    y_true, y_pred = [], []\n",
        "\n",
        "    with torch.no_grad():\n",
        "        for images, labels in val_loader:\n",
        "            images, labels = images.to(device), labels.to(device)\n",
        "            outputs = model(images)\n",
        "            loss = criterion(outputs, labels)\n",
        "            val_loss += loss.item()\n",
        "            _, preds = torch.max(outputs, 1)\n",
        "            y_true.extend(labels.cpu().numpy())\n",
        "            y_pred.extend(preds.cpu().numpy())\n",
        "\n",
        "    val_accuracy = accuracy_score(y_true, y_pred)\n",
        "    val_f1 = f1_score(y_true, y_pred, average='macro', zero_division=1)\n",
        "\n",
        "    # ✅ Log all metrics\n",
        "    wandb.log({\"epoch\": epoch, \"train_loss\": train_loss / len(train_loader),\n",
        "               \"val_loss\": val_loss / len(val_loader), \"train_f1\": train_f1,\n",
        "               \"val_f1\": val_f1, \"train_accuracy\": train_accuracy, \"val_accuracy\": val_accuracy})\n",
        "\n",
        "wandb.finish()\n",
        "print(\"✅ Finished training Debjani_Model_2!\")\n"
      ],
      "metadata": {
        "colab": {
          "base_uri": "https://localhost:8080/",
          "height": 853
        },
        "id": "xIcPysJGSOYi",
        "outputId": "5fc56fde-3e94-4549-fed6-bb57c7f89d31"
      },
      "execution_count": null,
      "outputs": [
        {
          "output_type": "display_data",
          "data": {
            "text/plain": [
              "<IPython.core.display.HTML object>"
            ],
            "text/html": [
              "Tracking run with wandb version 0.19.7"
            ]
          },
          "metadata": {}
        },
        {
          "output_type": "display_data",
          "data": {
            "text/plain": [
              "<IPython.core.display.HTML object>"
            ],
            "text/html": [
              "Run data is saved locally in <code>/content/wandb/run-20250308_012310-2dl77vdw</code>"
            ]
          },
          "metadata": {}
        },
        {
          "output_type": "display_data",
          "data": {
            "text/plain": [
              "<IPython.core.display.HTML object>"
            ],
            "text/html": [
              "Syncing run <strong><a href='https://wandb.ai/usf-guardians/cnn-clothes-classifier/runs/2dl77vdw' target=\"_blank\">GPU_NDebjani_Model_2</a></strong> to <a href='https://wandb.ai/usf-guardians/cnn-clothes-classifier' target=\"_blank\">Weights & Biases</a> (<a href='https://wandb.me/developer-guide' target=\"_blank\">docs</a>)<br>"
            ]
          },
          "metadata": {}
        },
        {
          "output_type": "display_data",
          "data": {
            "text/plain": [
              "<IPython.core.display.HTML object>"
            ],
            "text/html": [
              " View project at <a href='https://wandb.ai/usf-guardians/cnn-clothes-classifier' target=\"_blank\">https://wandb.ai/usf-guardians/cnn-clothes-classifier</a>"
            ]
          },
          "metadata": {}
        },
        {
          "output_type": "display_data",
          "data": {
            "text/plain": [
              "<IPython.core.display.HTML object>"
            ],
            "text/html": [
              " View run at <a href='https://wandb.ai/usf-guardians/cnn-clothes-classifier/runs/2dl77vdw' target=\"_blank\">https://wandb.ai/usf-guardians/cnn-clothes-classifier/runs/2dl77vdw</a>"
            ]
          },
          "metadata": {}
        },
        {
          "output_type": "stream",
          "name": "stdout",
          "text": [
            "Epoch 1/10: Training...\n",
            "Epoch 2/10: Training...\n",
            "Epoch 3/10: Training...\n",
            "Epoch 4/10: Training...\n",
            "Epoch 5/10: Training...\n",
            "Epoch 6/10: Training...\n",
            "Epoch 7/10: Training...\n",
            "Epoch 8/10: Training...\n",
            "Epoch 9/10: Training...\n",
            "Epoch 10/10: Training...\n"
          ]
        },
        {
          "output_type": "display_data",
          "data": {
            "text/plain": [
              "<IPython.core.display.HTML object>"
            ],
            "text/html": []
          },
          "metadata": {}
        },
        {
          "output_type": "display_data",
          "data": {
            "text/plain": [
              "<IPython.core.display.HTML object>"
            ],
            "text/html": [
              "<br>    <style><br>        .wandb-row {<br>            display: flex;<br>            flex-direction: row;<br>            flex-wrap: wrap;<br>            justify-content: flex-start;<br>            width: 100%;<br>        }<br>        .wandb-col {<br>            display: flex;<br>            flex-direction: column;<br>            flex-basis: 100%;<br>            flex: 1;<br>            padding: 10px;<br>        }<br>    </style><br><div class=\"wandb-row\"><div class=\"wandb-col\"><h3>Run history:</h3><br/><table class=\"wandb\"><tr><td>epoch</td><td>▁▂▃▃▄▅▆▆▇█</td></tr><tr><td>train_accuracy</td><td>▁▃▃▄▅▅▆▇▇█</td></tr><tr><td>train_f1</td><td>▁▃▃▄▅▆▆▇▇█</td></tr><tr><td>train_loss</td><td>██▇▆▅▄▃▃▂▁</td></tr><tr><td>val_accuracy</td><td>▁▁▄▃▅▆▆▆██</td></tr><tr><td>val_f1</td><td>▁▁▄▃▅▇▆▆▇█</td></tr><tr><td>val_loss</td><td>██▇▆▅▄▃▃▂▁</td></tr></table><br/></div><div class=\"wandb-col\"><h3>Run summary:</h3><br/><table class=\"wandb\"><tr><td>epoch</td><td>9</td></tr><tr><td>train_accuracy</td><td>0.24333</td></tr><tr><td>train_f1</td><td>0.2345</td></tr><tr><td>train_loss</td><td>2.33307</td></tr><tr><td>val_accuracy</td><td>0.24333</td></tr><tr><td>val_f1</td><td>0.22691</td></tr><tr><td>val_loss</td><td>2.29336</td></tr></table><br/></div></div>"
            ]
          },
          "metadata": {}
        },
        {
          "output_type": "display_data",
          "data": {
            "text/plain": [
              "<IPython.core.display.HTML object>"
            ],
            "text/html": [
              " View run <strong style=\"color:#cdcd00\">GPU_NDebjani_Model_2</strong> at: <a href='https://wandb.ai/usf-guardians/cnn-clothes-classifier/runs/2dl77vdw' target=\"_blank\">https://wandb.ai/usf-guardians/cnn-clothes-classifier/runs/2dl77vdw</a><br> View project at: <a href='https://wandb.ai/usf-guardians/cnn-clothes-classifier' target=\"_blank\">https://wandb.ai/usf-guardians/cnn-clothes-classifier</a><br>Synced 5 W&B file(s), 0 media file(s), 0 artifact file(s) and 0 other file(s)"
            ]
          },
          "metadata": {}
        },
        {
          "output_type": "display_data",
          "data": {
            "text/plain": [
              "<IPython.core.display.HTML object>"
            ],
            "text/html": [
              "Find logs at: <code>./wandb/run-20250308_012310-2dl77vdw/logs</code>"
            ]
          },
          "metadata": {}
        },
        {
          "output_type": "stream",
          "name": "stdout",
          "text": [
            "✅ Finished training Debjani_Model_2!\n"
          ]
        }
      ]
    },
    {
      "cell_type": "markdown",
      "source": [
        "# Further Steps\n",
        "\n",
        "# 🔍 Hyperparameter Sweep - Optimizing CNN Training\n",
        "\n",
        "## **🎯 Objective**\n",
        "We aim to **automate hyperparameter tuning** using **Weights & Biases (W&B) sweeps** to **find the best training configuration** for our CNN model.  \n",
        "\n",
        "### **🔹 Why Are We Doing This?**\n",
        "Instead of manually testing different hyperparameters, we let **W&B Sweeps** handle it **automatically**, allowing us to:  \n",
        "✅ Test multiple hyperparameter combinations efficiently  \n",
        "✅ Log and compare different runs in W&B  \n",
        "✅ Identify the best configuration that maximizes model performance  \n",
        "\n",
        "---\n",
        "\n",
        "## **⚙️ What Are We Tuning?**\n",
        "We build upon our **best model so far (Debjani_Model_1)** and optimize the **training strategy** by sweeping across different:  \n",
        "\n",
        "| **Hyperparameter** | **Values Tested** | **Why?** |\n",
        "|-------------------|-----------------|--------|\n",
        "| **Learning Rate** | `{0.0001, 0.0005, 0.001, 0.005}` | Determines weight update speed. Affects stability & convergence. |\n",
        "| **Batch Size** | `{16, 32, 64}` | Affects training speed & generalization. Smaller = better updates, Larger = faster but may need tuning. |\n",
        "| **Dropout Rate** | `{0.2, 0.3, 0.4, 0.5}` | Prevents overfitting by randomly deactivating neurons. |\n",
        "| **Weight Decay (L2 Regularization)** | `{0, 1e-5, 1e-4}` | Helps avoid overfitting by penalizing large weights. |\n",
        "| **Optimizer** | `{Adam, SGD, RMSprop}` | Determines how weights are updated. Different optimizers may converge differently. |\n",
        "\n",
        "---\n",
        "\n",
        "## **📌 Steps in This Hyperparameter Sweep**\n",
        "1️⃣ **Define a W&B Sweep Configuration**\n",
        "   - Specifies which hyperparameters to search over.  \n",
        "   - Defines how many runs to test.  \n",
        "   - Selects **F1-score as the metric to optimize.**  \n",
        "\n",
        "2️⃣ **Create a Training Function**\n",
        "   - Builds the CNN model.  \n",
        "   - Uses hyperparameters **from the W&B sweep.**  \n",
        "   - Logs **per-epoch training & validation metrics.**  \n",
        "   - Logs **final performance metrics.**  \n",
        "\n",
        "3️⃣ **Run the Sweep**\n",
        "   - Automatically runs **10 experiments** with different hyperparameter values.  \n",
        "   - Logs results in W&B for easy comparison.  \n",
        "\n",
        "---\n",
        "\n",
        "## **📊 Logging & Visualization**\n",
        "✅ **Per-Epoch Logging:**  \n",
        "- **Training Loss, Validation Loss**  \n",
        "- **Training & Validation F1 Score**  \n",
        "- **Training & Validation Accuracy**  \n",
        "\n",
        "✅ **Final Metrics:**  \n",
        "- Logs final **F1-score and Accuracy** in W&B for each run.  \n",
        "\n",
        "✅ **Graphs Generated in Notebook:**  \n",
        "- **Training vs Validation Loss Curve**  \n",
        "- **F1 Score Over Epochs**  \n",
        "\n",
        "---\n",
        "\n",
        "## **🔮 Expected Outcome**\n",
        "- We will **identify the best combination of learning rate, batch size, optimizer, and regularization settings.**  \n",
        "- This will help us **train a more optimized CNN model** with better performance.  \n",
        "\n",
        "🚀 **Once the sweep runs are completed, we can analyze the W&B dashboard to pick the best-performing model!**  \n"
      ],
      "metadata": {
        "id": "AOEgvJU-nm16"
      }
    },
    {
      "cell_type": "code",
      "source": [
        "import wandb\n",
        "\n",
        "# ✅ Define the sweep configuration\n",
        "sweep_config = {\n",
        "    'method': 'random',  # Use random search for hyperparameter tuning\n",
        "    'name': 'cnn-hyperparameter-sweep',\n",
        "    'metric': {'name': 'final_f1', 'goal': 'maximize'},  # Optimize for F1 score\n",
        "    'parameters': {\n",
        "        'learning_rate': {\n",
        "            'values': [0.0001, 0.0005, 0.001, 0.005]\n",
        "        },\n",
        "        'batch_size': {\n",
        "            'values': [16, 32, 64]\n",
        "        },\n",
        "        'dropout_rate': {\n",
        "            'values': [0.2, 0.3, 0.4, 0.5]\n",
        "        },\n",
        "        'weight_decay': {\n",
        "            'values': [0, 1e-5, 1e-4]\n",
        "        },\n",
        "        'optimizer': {\n",
        "            'values': ['adam', 'sgd', 'rmsprop']\n",
        "        },\n",
        "        'epochs': {\n",
        "            'value': 20  # Fixed number of epochs\n",
        "        }\n",
        "    }\n",
        "}\n",
        "\n",
        "# ✅ Initialize the sweep\n",
        "\n",
        "sweep_id = wandb.sweep(sweep_config, project=\"cnn-clothes-classifier\")\n"
      ],
      "metadata": {
        "colab": {
          "base_uri": "https://localhost:8080/"
        },
        "id": "CJusg4q8V0sH",
        "outputId": "92529f8d-b4de-4a31-82be-fb95a0bb1790"
      },
      "execution_count": null,
      "outputs": [
        {
          "output_type": "stream",
          "name": "stdout",
          "text": [
            "Create sweep with ID: 0rczja0h\n",
            "Sweep URL: https://wandb.ai/usf-guardians/cnn-clothes-classifier/sweeps/0rczja0h\n"
          ]
        }
      ]
    },
    {
      "cell_type": "code",
      "source": [
        "import torch\n",
        "import torch.nn as nn\n",
        "import torch.optim as optim\n",
        "from torch.utils.data import DataLoader\n",
        "import os\n",
        "import matplotlib.pyplot as plt\n",
        "from sklearn.metrics import accuracy_score, f1_score\n",
        "\n",
        "# ✅ Define CNN Model (Best from previous experiments)\n",
        "class CNN_Model(nn.Module):\n",
        "    def __init__(self, num_classes, dropout_rate):\n",
        "        super(CNN_Model, self).__init__()\n",
        "\n",
        "        self.convs = nn.ModuleList([\n",
        "            nn.Conv2d(3, 64, kernel_size=3, padding=1),\n",
        "            nn.Conv2d(64, 128, kernel_size=3, padding=1),\n",
        "            nn.Conv2d(128, 256, kernel_size=3, padding=1)\n",
        "        ])\n",
        "\n",
        "        self.pool = nn.AvgPool2d(2, 2)\n",
        "        self.leaky_relu = nn.LeakyReLU(0.01)\n",
        "        self.dropout = nn.Dropout(dropout_rate)\n",
        "\n",
        "        self.fc1 = nn.Linear(256 * 16 * 16, 512)\n",
        "        self.fc2 = nn.Linear(512, num_classes)\n",
        "\n",
        "        self._initialize_weights()\n",
        "\n",
        "    def forward(self, x):\n",
        "        for conv in self.convs:\n",
        "            x = self.pool(self.leaky_relu(conv(x)))\n",
        "        x = x.view(x.size(0), -1)\n",
        "        x = self.dropout(self.leaky_relu(self.fc1(x)))\n",
        "        x = self.fc2(x)\n",
        "        return x\n",
        "\n",
        "    def _initialize_weights(self):\n",
        "        for m in self.modules():\n",
        "            if isinstance(m, (nn.Conv2d, nn.Linear)):\n",
        "                nn.init.xavier_normal_(m.weight)\n",
        "                if m.bias is not None:\n",
        "                    nn.init.zeros_(m.bias)\n",
        "\n",
        "# ✅ Training function for W&B sweeps\n",
        "def train_model():\n",
        "    wandb.init(project=\"cnn-clothes-classifier\", entity=\"usf-guardians\", name=\"final_sweeps\")\n",
        "    config = wandb.config  # Get hyperparameters from W&B sweep\n",
        "\n",
        "    # ✅ Load dataset\n",
        "    batch_size = config.batch_size\n",
        "    num_classes = len(os.listdir(\"clothes_dataset/clothes_dataset\"))\n",
        "\n",
        "    train_loader = DataLoader(train_dataset, batch_size=batch_size, shuffle=True, num_workers=2)\n",
        "    val_loader = DataLoader(val_dataset, batch_size=batch_size, shuffle=False, num_workers=2)\n",
        "\n",
        "    # ✅ Initialize model\n",
        "    device = torch.device(\"cuda\" if torch.cuda.is_available() else \"cpu\")\n",
        "    model = CNN_Model(num_classes, config.dropout_rate).to(device)\n",
        "\n",
        "    # ✅ Define loss function & optimizer\n",
        "    criterion = nn.CrossEntropyLoss()\n",
        "\n",
        "    if config.optimizer == 'adam':\n",
        "        optimizer = optim.Adam(model.parameters(), lr=config.learning_rate, weight_decay=config.weight_decay)\n",
        "    elif config.optimizer == 'sgd':\n",
        "        optimizer = optim.SGD(model.parameters(), lr=config.learning_rate, momentum=0.9, weight_decay=config.weight_decay)\n",
        "    elif config.optimizer == 'rmsprop':\n",
        "        optimizer = optim.RMSprop(model.parameters(), lr=config.learning_rate, weight_decay=config.weight_decay)\n",
        "\n",
        "    # ✅ Track metrics\n",
        "    train_losses, val_losses, f1_scores = [], [], []\n",
        "\n",
        "    for epoch in range(config.epochs):\n",
        "        print(f\"Epoch {epoch+1}/{config.epochs}: Training...\")\n",
        "\n",
        "        model.train()\n",
        "        train_loss = 0\n",
        "        y_true, y_pred = [], []\n",
        "\n",
        "        for images, labels in train_loader:\n",
        "            images, labels = images.to(device), labels.to(device)\n",
        "            optimizer.zero_grad()\n",
        "            outputs = model(images)\n",
        "            loss = criterion(outputs, labels)\n",
        "            loss.backward()\n",
        "            optimizer.step()\n",
        "            train_loss += loss.item()\n",
        "            _, preds = torch.max(outputs, 1)\n",
        "            y_true.extend(labels.cpu().numpy())\n",
        "            y_pred.extend(preds.cpu().numpy())\n",
        "\n",
        "        # Compute train metrics\n",
        "        train_accuracy = accuracy_score(y_true, y_pred)\n",
        "        train_f1 = f1_score(y_true, y_pred, average='macro', zero_division=1)\n",
        "        train_losses.append(train_loss / len(train_loader))\n",
        "        f1_scores.append(train_f1)\n",
        "\n",
        "        # Validation\n",
        "        model.eval()\n",
        "        val_loss = 0\n",
        "        y_true, y_pred = [], []\n",
        "\n",
        "        with torch.no_grad():\n",
        "            for images, labels in val_loader:\n",
        "                images, labels = images.to(device), labels.to(device)\n",
        "                outputs = model(images)\n",
        "                loss = criterion(outputs, labels)\n",
        "                val_loss += loss.item()\n",
        "                _, preds = torch.max(outputs, 1)\n",
        "                y_true.extend(labels.cpu().numpy())\n",
        "                y_pred.extend(preds.cpu().numpy())\n",
        "\n",
        "        val_accuracy = accuracy_score(y_true, y_pred)\n",
        "        val_f1 = f1_score(y_true, y_pred, average='macro', zero_division=1)\n",
        "        val_losses.append(val_loss / len(val_loader))\n",
        "\n",
        "        # ✅ Log per-epoch metrics\n",
        "        wandb.log({\"epoch\": epoch, \"train_loss\": train_loss / len(train_loader),\n",
        "                   \"val_loss\": val_loss / len(val_loader), \"train_f1\": train_f1,\n",
        "                   \"val_f1\": val_f1, \"train_accuracy\": train_accuracy, \"val_accuracy\": val_accuracy})\n",
        "\n",
        "    # ✅ Log final metrics\n",
        "    wandb.log({\"final_f1\": val_f1, \"final_accuracy\": val_accuracy})\n",
        "\n",
        "    # ✅ Plot training curves\n",
        "    plt.figure(figsize=(12, 4))\n",
        "    plt.subplot(1, 2, 1)\n",
        "    plt.plot(range(config.epochs), train_losses, label=\"Train Loss\")\n",
        "    plt.plot(range(config.epochs), val_losses, label=\"Validation Loss\")\n",
        "    plt.xlabel(\"Epochs\")\n",
        "    plt.ylabel(\"Loss\")\n",
        "    plt.legend()\n",
        "    plt.title(\"Training vs Validation Loss\")\n",
        "\n",
        "    plt.subplot(1, 2, 2)\n",
        "    plt.plot(range(config.epochs), f1_scores, label=\"F1 Score\")\n",
        "    plt.xlabel(\"Epochs\")\n",
        "    plt.ylabel(\"F1 Score\")\n",
        "    plt.legend()\n",
        "    plt.title(\"F1 Score Over Epochs\")\n",
        "\n",
        "    plt.show()\n",
        "\n",
        "    wandb.finish()\n",
        "\n",
        "\n",
        "\n",
        "# ✅ Start the sweep with 10 runs\n",
        "wandb.agent(sweep_id, function=train_model, count=10)\n",
        "\n",
        "print(\"Sweep completed with 10 hyperparameter combinations!\")\n",
        "\n"
      ],
      "metadata": {
        "colab": {
          "base_uri": "https://localhost:8080/",
          "height": 1000
        },
        "id": "-7Z9yJIbogTx",
        "outputId": "c654d0c1-b1a8-45d1-a5fb-3e26f8d26854"
      },
      "execution_count": null,
      "outputs": [
        {
          "output_type": "stream",
          "name": "stderr",
          "text": [
            "\u001b[34m\u001b[1mwandb\u001b[0m: Agent Starting Run: z7o9e3mj with config:\n",
            "\u001b[34m\u001b[1mwandb\u001b[0m: \tbatch_size: 32\n",
            "\u001b[34m\u001b[1mwandb\u001b[0m: \tdropout_rate: 0.4\n",
            "\u001b[34m\u001b[1mwandb\u001b[0m: \tepochs: 20\n",
            "\u001b[34m\u001b[1mwandb\u001b[0m: \tlearning_rate: 0.001\n",
            "\u001b[34m\u001b[1mwandb\u001b[0m: \toptimizer: rmsprop\n",
            "\u001b[34m\u001b[1mwandb\u001b[0m: \tweight_decay: 1e-05\n",
            "\u001b[34m\u001b[1mwandb\u001b[0m: Currently logged in as: \u001b[33mprincepraveen\u001b[0m (\u001b[33musf-guardians\u001b[0m). Use \u001b[1m`wandb login --relogin`\u001b[0m to force relogin\n"
          ]
        },
        {
          "output_type": "display_data",
          "data": {
            "text/plain": [
              "<IPython.core.display.HTML object>"
            ],
            "text/html": [
              "Ignoring project 'cnn-clothes-classifier' when running a sweep."
            ]
          },
          "metadata": {}
        },
        {
          "output_type": "display_data",
          "data": {
            "text/plain": [
              "<IPython.core.display.HTML object>"
            ],
            "text/html": [
              "Ignoring entity 'usf-guardians' when running a sweep."
            ]
          },
          "metadata": {}
        },
        {
          "output_type": "stream",
          "name": "stderr",
          "text": [
            "\u001b[34m\u001b[1mwandb\u001b[0m: Using wandb-core as the SDK backend.  Please refer to https://wandb.me/wandb-core for more information.\n"
          ]
        },
        {
          "output_type": "display_data",
          "data": {
            "text/plain": [
              "<IPython.core.display.HTML object>"
            ],
            "text/html": [
              "Tracking run with wandb version 0.19.4"
            ]
          },
          "metadata": {}
        },
        {
          "output_type": "display_data",
          "data": {
            "text/plain": [
              "<IPython.core.display.HTML object>"
            ],
            "text/html": [
              "Run data is saved locally in <code>/content/wandb/run-20250308_024543-z7o9e3mj</code>"
            ]
          },
          "metadata": {}
        },
        {
          "output_type": "display_data",
          "data": {
            "text/plain": [
              "<IPython.core.display.HTML object>"
            ],
            "text/html": [
              "Syncing run <strong><a href='https://wandb.ai/usf-guardians/cnn-clothes-classifier/runs/z7o9e3mj' target=\"_blank\">final_sweeps</a></strong> to <a href='https://wandb.ai/usf-guardians/cnn-clothes-classifier' target=\"_blank\">Weights & Biases</a> (<a href='https://wandb.me/developer-guide' target=\"_blank\">docs</a>)<br>Sweep page: <a href='https://wandb.ai/usf-guardians/cnn-clothes-classifier/sweeps/0rczja0h' target=\"_blank\">https://wandb.ai/usf-guardians/cnn-clothes-classifier/sweeps/0rczja0h</a>"
            ]
          },
          "metadata": {}
        },
        {
          "output_type": "display_data",
          "data": {
            "text/plain": [
              "<IPython.core.display.HTML object>"
            ],
            "text/html": [
              " View project at <a href='https://wandb.ai/usf-guardians/cnn-clothes-classifier' target=\"_blank\">https://wandb.ai/usf-guardians/cnn-clothes-classifier</a>"
            ]
          },
          "metadata": {}
        },
        {
          "output_type": "display_data",
          "data": {
            "text/plain": [
              "<IPython.core.display.HTML object>"
            ],
            "text/html": [
              " View sweep at <a href='https://wandb.ai/usf-guardians/cnn-clothes-classifier/sweeps/0rczja0h' target=\"_blank\">https://wandb.ai/usf-guardians/cnn-clothes-classifier/sweeps/0rczja0h</a>"
            ]
          },
          "metadata": {}
        },
        {
          "output_type": "display_data",
          "data": {
            "text/plain": [
              "<IPython.core.display.HTML object>"
            ],
            "text/html": [
              " View run at <a href='https://wandb.ai/usf-guardians/cnn-clothes-classifier/runs/z7o9e3mj' target=\"_blank\">https://wandb.ai/usf-guardians/cnn-clothes-classifier/runs/z7o9e3mj</a>"
            ]
          },
          "metadata": {}
        },
        {
          "output_type": "stream",
          "name": "stdout",
          "text": [
            "Epoch 1/20: Training...\n",
            "Epoch 2/20: Training...\n",
            "Epoch 3/20: Training...\n",
            "Epoch 4/20: Training...\n",
            "Epoch 5/20: Training...\n",
            "Epoch 6/20: Training...\n",
            "Epoch 7/20: Training...\n",
            "Epoch 8/20: Training...\n",
            "Epoch 9/20: Training...\n",
            "Epoch 10/20: Training...\n",
            "Epoch 11/20: Training...\n",
            "Epoch 12/20: Training...\n",
            "Epoch 13/20: Training...\n",
            "Epoch 14/20: Training...\n",
            "Epoch 15/20: Training...\n",
            "Epoch 16/20: Training...\n",
            "Epoch 17/20: Training...\n",
            "Epoch 18/20: Training...\n",
            "Epoch 19/20: Training...\n",
            "Epoch 20/20: Training...\n"
          ]
        },
        {
          "output_type": "display_data",
          "data": {
            "text/plain": [
              "<Figure size 1200x400 with 2 Axes>"
            ],
            "image/png": "[encoded data removed]"
          },
          "metadata": {}
        },
        {
          "output_type": "display_data",
          "data": {
            "text/plain": [
              "<IPython.core.display.HTML object>"
            ],
            "text/html": []
          },
          "metadata": {}
        },
        {
          "output_type": "display_data",
          "data": {
            "text/plain": [
              "<IPython.core.display.HTML object>"
            ],
            "text/html": [
              "<br>    <style><br>        .wandb-row {<br>            display: flex;<br>            flex-direction: row;<br>            flex-wrap: wrap;<br>            justify-content: flex-start;<br>            width: 100%;<br>        }<br>        .wandb-col {<br>            display: flex;<br>            flex-direction: column;<br>            flex-basis: 100%;<br>            flex: 1;<br>            padding: 10px;<br>        }<br>    </style><br><div class=\"wandb-row\"><div class=\"wandb-col\"><h3>Run history:</h3><br/><table class=\"wandb\"><tr><td>epoch</td><td>▁▁▂▂▂▃▃▄▄▄▅▅▅▆▆▇▇▇██</td></tr><tr><td>final_accuracy</td><td>▁</td></tr><tr><td>final_f1</td><td>▁</td></tr><tr><td>train_accuracy</td><td>▁▂▃▃▃▃▄▄▄▅▅▅▆▆▆▇▇▇▇█</td></tr><tr><td>train_f1</td><td>▁▂▃▃▃▃▄▄▄▅▅▅▆▆▆▇▇▇▇█</td></tr><tr><td>train_loss</td><td>█▁▁▁▁▁▁▁▁▁▁▁▁▁▁▁▁▁▁▁</td></tr><tr><td>val_accuracy</td><td>▁▂▃▃▄▄▄▄▄▅▅▆▇▆▇▇▇█▇█</td></tr><tr><td>val_f1</td><td>▁▁▃▃▄▄▄▄▅▅▆▆▇▆▇▇▇███</td></tr><tr><td>val_loss</td><td>█▇▆▅▅▅▄▅▅▃▃▃▂▃▁▂▁▂▂▁</td></tr></table><br/></div><div class=\"wandb-col\"><h3>Run summary:</h3><br/><table class=\"wandb\"><tr><td>epoch</td><td>19</td></tr><tr><td>final_accuracy</td><td>0.53933</td></tr><tr><td>final_f1</td><td>0.53379</td></tr><tr><td>train_accuracy</td><td>0.6805</td></tr><tr><td>train_f1</td><td>0.67913</td></tr><tr><td>train_loss</td><td>1.00655</td></tr><tr><td>val_accuracy</td><td>0.53933</td></tr><tr><td>val_f1</td><td>0.53379</td></tr><tr><td>val_loss</td><td>1.5691</td></tr></table><br/></div></div>"
            ]
          },
          "metadata": {}
        },
        {
          "output_type": "display_data",
          "data": {
            "text/plain": [
              "<IPython.core.display.HTML object>"
            ],
            "text/html": [
              " View run <strong style=\"color:#cdcd00\">final_sweeps</strong> at: <a href='https://wandb.ai/usf-guardians/cnn-clothes-classifier/runs/z7o9e3mj' target=\"_blank\">https://wandb.ai/usf-guardians/cnn-clothes-classifier/runs/z7o9e3mj</a><br> View project at: <a href='https://wandb.ai/usf-guardians/cnn-clothes-classifier' target=\"_blank\">https://wandb.ai/usf-guardians/cnn-clothes-classifier</a><br>Synced 5 W&B file(s), 0 media file(s), 0 artifact file(s) and 0 other file(s)"
            ]
          },
          "metadata": {}
        },
        {
          "output_type": "display_data",
          "data": {
            "text/plain": [
              "<IPython.core.display.HTML object>"
            ],
            "text/html": [
              "Find logs at: <code>./wandb/run-20250308_024543-z7o9e3mj/logs</code>"
            ]
          },
          "metadata": {}
        },
        {
          "output_type": "stream",
          "name": "stderr",
          "text": [
            "\u001b[34m\u001b[1mwandb\u001b[0m: Agent Starting Run: hex1mr51 with config:\n",
            "\u001b[34m\u001b[1mwandb\u001b[0m: \tbatch_size: 64\n",
            "\u001b[34m\u001b[1mwandb\u001b[0m: \tdropout_rate: 0.5\n",
            "\u001b[34m\u001b[1mwandb\u001b[0m: \tepochs: 20\n",
            "\u001b[34m\u001b[1mwandb\u001b[0m: \tlearning_rate: 0.0005\n",
            "\u001b[34m\u001b[1mwandb\u001b[0m: \toptimizer: rmsprop\n",
            "\u001b[34m\u001b[1mwandb\u001b[0m: \tweight_decay: 0\n"
          ]
        },
        {
          "output_type": "display_data",
          "data": {
            "text/plain": [
              "<IPython.core.display.HTML object>"
            ],
            "text/html": [
              "Ignoring project 'cnn-clothes-classifier' when running a sweep."
            ]
          },
          "metadata": {}
        },
        {
          "output_type": "display_data",
          "data": {
            "text/plain": [
              "<IPython.core.display.HTML object>"
            ],
            "text/html": [
              "Ignoring entity 'usf-guardians' when running a sweep."
            ]
          },
          "metadata": {}
        },
        {
          "output_type": "display_data",
          "data": {
            "text/plain": [
              "<IPython.core.display.HTML object>"
            ],
            "text/html": [
              "Tracking run with wandb version 0.19.4"
            ]
          },
          "metadata": {}
        },
        {
          "output_type": "display_data",
          "data": {
            "text/plain": [
              "<IPython.core.display.HTML object>"
            ],
            "text/html": [
              "Run data is saved locally in <code>/content/wandb/run-20250308_031243-hex1mr51</code>"
            ]
          },
          "metadata": {}
        },
        {
          "output_type": "display_data",
          "data": {
            "text/plain": [
              "<IPython.core.display.HTML object>"
            ],
            "text/html": [
              "Syncing run <strong><a href='https://wandb.ai/usf-guardians/cnn-clothes-classifier/runs/hex1mr51' target=\"_blank\">final_sweeps</a></strong> to <a href='https://wandb.ai/usf-guardians/cnn-clothes-classifier' target=\"_blank\">Weights & Biases</a> (<a href='https://wandb.me/developer-guide' target=\"_blank\">docs</a>)<br>Sweep page: <a href='https://wandb.ai/usf-guardians/cnn-clothes-classifier/sweeps/0rczja0h' target=\"_blank\">https://wandb.ai/usf-guardians/cnn-clothes-classifier/sweeps/0rczja0h</a>"
            ]
          },
          "metadata": {}
        },
        {
          "output_type": "display_data",
          "data": {
            "text/plain": [
              "<IPython.core.display.HTML object>"
            ],
            "text/html": [
              " View project at <a href='https://wandb.ai/usf-guardians/cnn-clothes-classifier' target=\"_blank\">https://wandb.ai/usf-guardians/cnn-clothes-classifier</a>"
            ]
          },
          "metadata": {}
        },
        {
          "output_type": "display_data",
          "data": {
            "text/plain": [
              "<IPython.core.display.HTML object>"
            ],
            "text/html": [
              " View sweep at <a href='https://wandb.ai/usf-guardians/cnn-clothes-classifier/sweeps/0rczja0h' target=\"_blank\">https://wandb.ai/usf-guardians/cnn-clothes-classifier/sweeps/0rczja0h</a>"
            ]
          },
          "metadata": {}
        },
        {
          "output_type": "display_data",
          "data": {
            "text/plain": [
              "<IPython.core.display.HTML object>"
            ],
            "text/html": [
              " View run at <a href='https://wandb.ai/usf-guardians/cnn-clothes-classifier/runs/hex1mr51' target=\"_blank\">https://wandb.ai/usf-guardians/cnn-clothes-classifier/runs/hex1mr51</a>"
            ]
          },
          "metadata": {}
        },
        {
          "output_type": "stream",
          "name": "stdout",
          "text": [
            "Epoch 1/20: Training...\n",
            "Epoch 2/20: Training...\n",
            "Epoch 3/20: Training...\n",
            "Epoch 4/20: Training...\n",
            "Epoch 5/20: Training...\n",
            "Epoch 6/20: Training...\n",
            "Epoch 7/20: Training...\n",
            "Epoch 8/20: Training...\n",
            "Epoch 9/20: Training...\n",
            "Epoch 10/20: Training...\n",
            "Epoch 11/20: Training...\n",
            "Epoch 12/20: Training...\n",
            "Epoch 13/20: Training...\n",
            "Epoch 14/20: Training...\n",
            "Epoch 15/20: Training...\n",
            "Epoch 16/20: Training...\n",
            "Epoch 17/20: Training...\n",
            "Epoch 18/20: Training...\n",
            "Epoch 19/20: Training...\n",
            "Epoch 20/20: Training...\n"
          ]
        },
        {
          "output_type": "display_data",
          "data": {
            "text/plain": [
              "<Figure size 1200x400 with 2 Axes>"
            ],
            "image/png": "[encoded data removed]"
          },
          "metadata": {}
        },
        {
          "output_type": "display_data",
          "data": {
            "text/plain": [
              "<IPython.core.display.HTML object>"
            ],
            "text/html": []
          },
          "metadata": {}
        },
        {
          "output_type": "display_data",
          "data": {
            "text/plain": [
              "<IPython.core.display.HTML object>"
            ],
            "text/html": [
              "<br>    <style><br>        .wandb-row {<br>            display: flex;<br>            flex-direction: row;<br>            flex-wrap: wrap;<br>            justify-content: flex-start;<br>            width: 100%;<br>        }<br>        .wandb-col {<br>            display: flex;<br>            flex-direction: column;<br>            flex-basis: 100%;<br>            flex: 1;<br>            padding: 10px;<br>        }<br>    </style><br><div class=\"wandb-row\"><div class=\"wandb-col\"><h3>Run history:</h3><br/><table class=\"wandb\"><tr><td>epoch</td><td>▁▁▂▂▂▃▃▄▄▄▅▅▅▆▆▇▇▇██</td></tr><tr><td>final_accuracy</td><td>▁</td></tr><tr><td>final_f1</td><td>▁</td></tr><tr><td>train_accuracy</td><td>▁▂▂▃▄▄▄▅▅▅▆▆▆▇▇▇▇▇██</td></tr><tr><td>train_f1</td><td>▁▂▂▃▃▄▄▅▅▅▆▆▆▇▇▇▇▇██</td></tr><tr><td>train_loss</td><td>█▄▃▃▃▃▃▂▂▂▂▂▂▂▁▁▁▁▁▁</td></tr><tr><td>val_accuracy</td><td>▁▂▃▃▄▄▅▆▆▆▇▆▇▇▇▇▇█▇█</td></tr><tr><td>val_f1</td><td>▁▂▃▃▄▄▆▆▆▆▇▆▇█▇▇▇█▇█</td></tr><tr><td>val_loss</td><td>█▇▆▆▅▅▃▃▃▂▂▂▂▁▂▂▁▁▂▁</td></tr></table><br/></div><div class=\"wandb-col\"><h3>Run summary:</h3><br/><table class=\"wandb\"><tr><td>epoch</td><td>19</td></tr><tr><td>final_accuracy</td><td>0.568</td></tr><tr><td>final_f1</td><td>0.56709</td></tr><tr><td>train_accuracy</td><td>0.71933</td></tr><tr><td>train_f1</td><td>0.71792</td></tr><tr><td>train_loss</td><td>0.85946</td></tr><tr><td>val_accuracy</td><td>0.568</td></tr><tr><td>val_f1</td><td>0.56709</td></tr><tr><td>val_loss</td><td>1.47114</td></tr></table><br/></div></div>"
            ]
          },
          "metadata": {}
        },
        {
          "output_type": "display_data",
          "data": {
            "text/plain": [
              "<IPython.core.display.HTML object>"
            ],
            "text/html": [
              " View run <strong style=\"color:#cdcd00\">final_sweeps</strong> at: <a href='https://wandb.ai/usf-guardians/cnn-clothes-classifier/runs/hex1mr51' target=\"_blank\">https://wandb.ai/usf-guardians/cnn-clothes-classifier/runs/hex1mr51</a><br> View project at: <a href='https://wandb.ai/usf-guardians/cnn-clothes-classifier' target=\"_blank\">https://wandb.ai/usf-guardians/cnn-clothes-classifier</a><br>Synced 5 W&B file(s), 0 media file(s), 0 artifact file(s) and 0 other file(s)"
            ]
          },
          "metadata": {}
        },
        {
          "output_type": "display_data",
          "data": {
            "text/plain": [
              "<IPython.core.display.HTML object>"
            ],
            "text/html": [
              "Find logs at: <code>./wandb/run-20250308_031243-hex1mr51/logs</code>"
            ]
          },
          "metadata": {}
        },
        {
          "output_type": "stream",
          "name": "stderr",
          "text": [
            "\u001b[34m\u001b[1mwandb\u001b[0m: Agent Starting Run: xl0z48fi with config:\n",
            "\u001b[34m\u001b[1mwandb\u001b[0m: \tbatch_size: 64\n",
            "\u001b[34m\u001b[1mwandb\u001b[0m: \tdropout_rate: 0.5\n",
            "\u001b[34m\u001b[1mwandb\u001b[0m: \tepochs: 20\n",
            "\u001b[34m\u001b[1mwandb\u001b[0m: \tlearning_rate: 0.0005\n",
            "\u001b[34m\u001b[1mwandb\u001b[0m: \toptimizer: adam\n",
            "\u001b[34m\u001b[1mwandb\u001b[0m: \tweight_decay: 1e-05\n"
          ]
        },
        {
          "output_type": "display_data",
          "data": {
            "text/plain": [
              "<IPython.core.display.HTML object>"
            ],
            "text/html": [
              "Ignoring project 'cnn-clothes-classifier' when running a sweep."
            ]
          },
          "metadata": {}
        },
        {
          "output_type": "display_data",
          "data": {
            "text/plain": [
              "<IPython.core.display.HTML object>"
            ],
            "text/html": [
              "Ignoring entity 'usf-guardians' when running a sweep."
            ]
          },
          "metadata": {}
        },
        {
          "output_type": "display_data",
          "data": {
            "text/plain": [
              "<IPython.core.display.HTML object>"
            ],
            "text/html": [
              "Tracking run with wandb version 0.19.4"
            ]
          },
          "metadata": {}
        },
        {
          "output_type": "display_data",
          "data": {
            "text/plain": [
              "<IPython.core.display.HTML object>"
            ],
            "text/html": [
              "Run data is saved locally in <code>/content/wandb/run-20250308_033856-xl0z48fi</code>"
            ]
          },
          "metadata": {}
        },
        {
          "output_type": "display_data",
          "data": {
            "text/plain": [
              "<IPython.core.display.HTML object>"
            ],
            "text/html": [
              "Syncing run <strong><a href='https://wandb.ai/usf-guardians/cnn-clothes-classifier/runs/xl0z48fi' target=\"_blank\">final_sweeps</a></strong> to <a href='https://wandb.ai/usf-guardians/cnn-clothes-classifier' target=\"_blank\">Weights & Biases</a> (<a href='https://wandb.me/developer-guide' target=\"_blank\">docs</a>)<br>Sweep page: <a href='https://wandb.ai/usf-guardians/cnn-clothes-classifier/sweeps/0rczja0h' target=\"_blank\">https://wandb.ai/usf-guardians/cnn-clothes-classifier/sweeps/0rczja0h</a>"
            ]
          },
          "metadata": {}
        },
        {
          "output_type": "display_data",
          "data": {
            "text/plain": [
              "<IPython.core.display.HTML object>"
            ],
            "text/html": [
              " View project at <a href='https://wandb.ai/usf-guardians/cnn-clothes-classifier' target=\"_blank\">https://wandb.ai/usf-guardians/cnn-clothes-classifier</a>"
            ]
          },
          "metadata": {}
        },
        {
          "output_type": "display_data",
          "data": {
            "text/plain": [
              "<IPython.core.display.HTML object>"
            ],
            "text/html": [
              " View sweep at <a href='https://wandb.ai/usf-guardians/cnn-clothes-classifier/sweeps/0rczja0h' target=\"_blank\">https://wandb.ai/usf-guardians/cnn-clothes-classifier/sweeps/0rczja0h</a>"
            ]
          },
          "metadata": {}
        },
        {
          "output_type": "display_data",
          "data": {
            "text/plain": [
              "<IPython.core.display.HTML object>"
            ],
            "text/html": [
              " View run at <a href='https://wandb.ai/usf-guardians/cnn-clothes-classifier/runs/xl0z48fi' target=\"_blank\">https://wandb.ai/usf-guardians/cnn-clothes-classifier/runs/xl0z48fi</a>"
            ]
          },
          "metadata": {}
        },
        {
          "output_type": "stream",
          "name": "stdout",
          "text": [
            "Epoch 1/20: Training...\n",
            "Epoch 2/20: Training...\n",
            "Epoch 3/20: Training...\n",
            "Epoch 4/20: Training...\n",
            "Epoch 5/20: Training...\n",
            "Epoch 6/20: Training...\n",
            "Epoch 7/20: Training...\n",
            "Epoch 8/20: Training...\n",
            "Epoch 9/20: Training...\n",
            "Epoch 10/20: Training...\n",
            "Epoch 11/20: Training...\n",
            "Epoch 12/20: Training...\n",
            "Epoch 13/20: Training...\n",
            "Epoch 14/20: Training...\n",
            "Epoch 15/20: Training...\n",
            "Epoch 16/20: Training...\n",
            "Epoch 17/20: Training...\n",
            "Epoch 18/20: Training...\n",
            "Epoch 19/20: Training...\n",
            "Epoch 20/20: Training...\n"
          ]
        },
        {
          "output_type": "display_data",
          "data": {
            "text/plain": [
              "<Figure size 1200x400 with 2 Axes>"
            ],
            "image/png": "[encoded data removed]"
          },
          "metadata": {}
        },
        {
          "output_type": "display_data",
          "data": {
            "text/plain": [
              "<IPython.core.display.HTML object>"
            ],
            "text/html": []
          },
          "metadata": {}
        },
        {
          "output_type": "display_data",
          "data": {
            "text/plain": [
              "<IPython.core.display.HTML object>"
            ],
            "text/html": [
              "<br>    <style><br>        .wandb-row {<br>            display: flex;<br>            flex-direction: row;<br>            flex-wrap: wrap;<br>            justify-content: flex-start;<br>            width: 100%;<br>        }<br>        .wandb-col {<br>            display: flex;<br>            flex-direction: column;<br>            flex-basis: 100%;<br>            flex: 1;<br>            padding: 10px;<br>        }<br>    </style><br><div class=\"wandb-row\"><div class=\"wandb-col\"><h3>Run history:</h3><br/><table class=\"wandb\"><tr><td>epoch</td><td>▁▁▂▂▂▃▃▄▄▄▅▅▅▆▆▇▇▇██</td></tr><tr><td>final_accuracy</td><td>▁</td></tr><tr><td>final_f1</td><td>▁</td></tr><tr><td>train_accuracy</td><td>▁▂▃▄▄▅▅▅▆▆▆▇▇▇▇▇████</td></tr><tr><td>train_f1</td><td>▁▂▃▄▄▅▅▅▆▆▆▇▇▇▇▇████</td></tr><tr><td>train_loss</td><td>█▇▆▅▅▄▄▄▃▃▃▂▂▂▂▂▁▁▁▁</td></tr><tr><td>val_accuracy</td><td>▁▃▄▅▆▆▆▇▇▇▇█▇▇▇█████</td></tr><tr><td>val_f1</td><td>▁▃▅▅▆▆▇▇▇▇▇██▇▇█████</td></tr><tr><td>val_loss</td><td>█▆▄▄▃▂▂▂▁▁▁▁▁▁▂▁▂▂▂▂</td></tr></table><br/></div><div class=\"wandb-col\"><h3>Run summary:</h3><br/><table class=\"wandb\"><tr><td>epoch</td><td>19</td></tr><tr><td>final_accuracy</td><td>0.58733</td></tr><tr><td>final_f1</td><td>0.58623</td></tr><tr><td>train_accuracy</td><td>0.82317</td></tr><tr><td>train_f1</td><td>0.82238</td></tr><tr><td>train_loss</td><td>0.53363</td></tr><tr><td>val_accuracy</td><td>0.58733</td></tr><tr><td>val_f1</td><td>0.58623</td></tr><tr><td>val_loss</td><td>1.59609</td></tr></table><br/></div></div>"
            ]
          },
          "metadata": {}
        },
        {
          "output_type": "display_data",
          "data": {
            "text/plain": [
              "<IPython.core.display.HTML object>"
            ],
            "text/html": [
              " View run <strong style=\"color:#cdcd00\">final_sweeps</strong> at: <a href='https://wandb.ai/usf-guardians/cnn-clothes-classifier/runs/xl0z48fi' target=\"_blank\">https://wandb.ai/usf-guardians/cnn-clothes-classifier/runs/xl0z48fi</a><br> View project at: <a href='https://wandb.ai/usf-guardians/cnn-clothes-classifier' target=\"_blank\">https://wandb.ai/usf-guardians/cnn-clothes-classifier</a><br>Synced 5 W&B file(s), 0 media file(s), 0 artifact file(s) and 0 other file(s)"
            ]
          },
          "metadata": {}
        },
        {
          "output_type": "display_data",
          "data": {
            "text/plain": [
              "<IPython.core.display.HTML object>"
            ],
            "text/html": [
              "Find logs at: <code>./wandb/run-20250308_033856-xl0z48fi/logs</code>"
            ]
          },
          "metadata": {}
        },
        {
          "output_type": "stream",
          "name": "stderr",
          "text": [
            "\u001b[34m\u001b[1mwandb\u001b[0m: Agent Starting Run: goho7sff with config:\n",
            "\u001b[34m\u001b[1mwandb\u001b[0m: \tbatch_size: 64\n",
            "\u001b[34m\u001b[1mwandb\u001b[0m: \tdropout_rate: 0.2\n",
            "\u001b[34m\u001b[1mwandb\u001b[0m: \tepochs: 20\n",
            "\u001b[34m\u001b[1mwandb\u001b[0m: \tlearning_rate: 0.005\n",
            "\u001b[34m\u001b[1mwandb\u001b[0m: \toptimizer: sgd\n",
            "\u001b[34m\u001b[1mwandb\u001b[0m: \tweight_decay: 1e-05\n"
          ]
        },
        {
          "output_type": "display_data",
          "data": {
            "text/plain": [
              "<IPython.core.display.HTML object>"
            ],
            "text/html": [
              "Ignoring project 'cnn-clothes-classifier' when running a sweep."
            ]
          },
          "metadata": {}
        },
        {
          "output_type": "display_data",
          "data": {
            "text/plain": [
              "<IPython.core.display.HTML object>"
            ],
            "text/html": [
              "Ignoring entity 'usf-guardians' when running a sweep."
            ]
          },
          "metadata": {}
        },
        {
          "output_type": "display_data",
          "data": {
            "text/plain": [
              "<IPython.core.display.HTML object>"
            ],
            "text/html": [
              "Tracking run with wandb version 0.19.4"
            ]
          },
          "metadata": {}
        },
        {
          "output_type": "display_data",
          "data": {
            "text/plain": [
              "<IPython.core.display.HTML object>"
            ],
            "text/html": [
              "Run data is saved locally in <code>/content/wandb/run-20250308_040459-goho7sff</code>"
            ]
          },
          "metadata": {}
        },
        {
          "output_type": "display_data",
          "data": {
            "text/plain": [
              "<IPython.core.display.HTML object>"
            ],
            "text/html": [
              "Syncing run <strong><a href='https://wandb.ai/usf-guardians/cnn-clothes-classifier/runs/goho7sff' target=\"_blank\">final_sweeps</a></strong> to <a href='https://wandb.ai/usf-guardians/cnn-clothes-classifier' target=\"_blank\">Weights & Biases</a> (<a href='https://wandb.me/developer-guide' target=\"_blank\">docs</a>)<br>Sweep page: <a href='https://wandb.ai/usf-guardians/cnn-clothes-classifier/sweeps/0rczja0h' target=\"_blank\">https://wandb.ai/usf-guardians/cnn-clothes-classifier/sweeps/0rczja0h</a>"
            ]
          },
          "metadata": {}
        },
        {
          "output_type": "display_data",
          "data": {
            "text/plain": [
              "<IPython.core.display.HTML object>"
            ],
            "text/html": [
              " View project at <a href='https://wandb.ai/usf-guardians/cnn-clothes-classifier' target=\"_blank\">https://wandb.ai/usf-guardians/cnn-clothes-classifier</a>"
            ]
          },
          "metadata": {}
        },
        {
          "output_type": "display_data",
          "data": {
            "text/plain": [
              "<IPython.core.display.HTML object>"
            ],
            "text/html": [
              " View sweep at <a href='https://wandb.ai/usf-guardians/cnn-clothes-classifier/sweeps/0rczja0h' target=\"_blank\">https://wandb.ai/usf-guardians/cnn-clothes-classifier/sweeps/0rczja0h</a>"
            ]
          },
          "metadata": {}
        },
        {
          "output_type": "display_data",
          "data": {
            "text/plain": [
              "<IPython.core.display.HTML object>"
            ],
            "text/html": [
              " View run at <a href='https://wandb.ai/usf-guardians/cnn-clothes-classifier/runs/goho7sff' target=\"_blank\">https://wandb.ai/usf-guardians/cnn-clothes-classifier/runs/goho7sff</a>"
            ]
          },
          "metadata": {}
        },
        {
          "output_type": "stream",
          "name": "stdout",
          "text": [
            "Epoch 1/20: Training...\n",
            "Epoch 2/20: Training...\n",
            "Epoch 3/20: Training...\n",
            "Epoch 4/20: Training...\n",
            "Epoch 5/20: Training...\n",
            "Epoch 6/20: Training...\n",
            "Epoch 7/20: Training...\n",
            "Epoch 8/20: Training...\n",
            "Epoch 9/20: Training...\n",
            "Epoch 10/20: Training...\n",
            "Epoch 11/20: Training...\n",
            "Epoch 12/20: Training...\n",
            "Epoch 13/20: Training...\n",
            "Epoch 14/20: Training...\n",
            "Epoch 15/20: Training...\n",
            "Epoch 16/20: Training...\n",
            "Epoch 17/20: Training...\n",
            "Epoch 18/20: Training...\n",
            "Epoch 19/20: Training...\n",
            "Epoch 20/20: Training...\n"
          ]
        },
        {
          "output_type": "display_data",
          "data": {
            "text/plain": [
              "<Figure size 1200x400 with 2 Axes>"
            ],
            "image/png": "[encoded data removed]"
          },
          "metadata": {}
        },
        {
          "output_type": "display_data",
          "data": {
            "text/plain": [
              "<IPython.core.display.HTML object>"
            ],
            "text/html": []
          },
          "metadata": {}
        },
        {
          "output_type": "display_data",
          "data": {
            "text/plain": [
              "<IPython.core.display.HTML object>"
            ],
            "text/html": [
              "<br>    <style><br>        .wandb-row {<br>            display: flex;<br>            flex-direction: row;<br>            flex-wrap: wrap;<br>            justify-content: flex-start;<br>            width: 100%;<br>        }<br>        .wandb-col {<br>            display: flex;<br>            flex-direction: column;<br>            flex-basis: 100%;<br>            flex: 1;<br>            padding: 10px;<br>        }<br>    </style><br><div class=\"wandb-row\"><div class=\"wandb-col\"><h3>Run history:</h3><br/><table class=\"wandb\"><tr><td>epoch</td><td>▁▁▂▂▂▃▃▄▄▄▅▅▅▆▆▇▇▇██</td></tr><tr><td>final_accuracy</td><td>▁</td></tr><tr><td>final_f1</td><td>▁</td></tr><tr><td>train_accuracy</td><td>▁▂▃▃▄▄▅▅▅▅▆▆▆▇▇▇▇▇██</td></tr><tr><td>train_f1</td><td>▁▂▃▃▄▄▅▅▅▅▆▆▆▇▇▇▇▇██</td></tr><tr><td>train_loss</td><td>█▇▆▆▅▅▅▄▄▄▄▃▃▃▂▂▂▂▁▁</td></tr><tr><td>val_accuracy</td><td>▁▃▃▄▄▅▅▆▆▆▆▇▇▇▇▇▇███</td></tr><tr><td>val_f1</td><td>▁▂▃▄▅▅▅▆▆▆▆▇▇▇▇▇▇▇██</td></tr><tr><td>val_loss</td><td>█▆▅▅▄▄▄▃▃▃▃▂▂▂▂▂▂▁▁▁</td></tr></table><br/></div><div class=\"wandb-col\"><h3>Run summary:</h3><br/><table class=\"wandb\"><tr><td>epoch</td><td>19</td></tr><tr><td>final_accuracy</td><td>0.44067</td></tr><tr><td>final_f1</td><td>0.44085</td></tr><tr><td>train_accuracy</td><td>0.555</td></tr><tr><td>train_f1</td><td>0.55085</td></tr><tr><td>train_loss</td><td>1.35968</td></tr><tr><td>val_accuracy</td><td>0.44067</td></tr><tr><td>val_f1</td><td>0.44085</td></tr><tr><td>val_loss</td><td>1.78938</td></tr></table><br/></div></div>"
            ]
          },
          "metadata": {}
        },
        {
          "output_type": "display_data",
          "data": {
            "text/plain": [
              "<IPython.core.display.HTML object>"
            ],
            "text/html": [
              " View run <strong style=\"color:#cdcd00\">final_sweeps</strong> at: <a href='https://wandb.ai/usf-guardians/cnn-clothes-classifier/runs/goho7sff' target=\"_blank\">https://wandb.ai/usf-guardians/cnn-clothes-classifier/runs/goho7sff</a><br> View project at: <a href='https://wandb.ai/usf-guardians/cnn-clothes-classifier' target=\"_blank\">https://wandb.ai/usf-guardians/cnn-clothes-classifier</a><br>Synced 5 W&B file(s), 0 media file(s), 0 artifact file(s) and 0 other file(s)"
            ]
          },
          "metadata": {}
        },
        {
          "output_type": "display_data",
          "data": {
            "text/plain": [
              "<IPython.core.display.HTML object>"
            ],
            "text/html": [
              "Find logs at: <code>./wandb/run-20250308_040459-goho7sff/logs</code>"
            ]
          },
          "metadata": {}
        },
        {
          "output_type": "stream",
          "name": "stderr",
          "text": [
            "\u001b[34m\u001b[1mwandb\u001b[0m: Agent Starting Run: 1c822yg3 with config:\n",
            "\u001b[34m\u001b[1mwandb\u001b[0m: \tbatch_size: 32\n",
            "\u001b[34m\u001b[1mwandb\u001b[0m: \tdropout_rate: 0.5\n",
            "\u001b[34m\u001b[1mwandb\u001b[0m: \tepochs: 20\n",
            "\u001b[34m\u001b[1mwandb\u001b[0m: \tlearning_rate: 0.0005\n",
            "\u001b[34m\u001b[1mwandb\u001b[0m: \toptimizer: adam\n",
            "\u001b[34m\u001b[1mwandb\u001b[0m: \tweight_decay: 1e-05\n"
          ]
        },
        {
          "output_type": "display_data",
          "data": {
            "text/plain": [
              "<IPython.core.display.HTML object>"
            ],
            "text/html": [
              "Ignoring project 'cnn-clothes-classifier' when running a sweep."
            ]
          },
          "metadata": {}
        },
        {
          "output_type": "display_data",
          "data": {
            "text/plain": [
              "<IPython.core.display.HTML object>"
            ],
            "text/html": [
              "Ignoring entity 'usf-guardians' when running a sweep."
            ]
          },
          "metadata": {}
        },
        {
          "output_type": "display_data",
          "data": {
            "text/plain": [
              "<IPython.core.display.HTML object>"
            ],
            "text/html": [
              "Tracking run with wandb version 0.19.4"
            ]
          },
          "metadata": {}
        },
        {
          "output_type": "display_data",
          "data": {
            "text/plain": [
              "<IPython.core.display.HTML object>"
            ],
            "text/html": [
              "Run data is saved locally in <code>/content/wandb/run-20250308_043058-1c822yg3</code>"
            ]
          },
          "metadata": {}
        },
        {
          "output_type": "display_data",
          "data": {
            "text/plain": [
              "<IPython.core.display.HTML object>"
            ],
            "text/html": [
              "Syncing run <strong><a href='https://wandb.ai/usf-guardians/cnn-clothes-classifier/runs/1c822yg3' target=\"_blank\">final_sweeps</a></strong> to <a href='https://wandb.ai/usf-guardians/cnn-clothes-classifier' target=\"_blank\">Weights & Biases</a> (<a href='https://wandb.me/developer-guide' target=\"_blank\">docs</a>)<br>Sweep page: <a href='https://wandb.ai/usf-guardians/cnn-clothes-classifier/sweeps/0rczja0h' target=\"_blank\">https://wandb.ai/usf-guardians/cnn-clothes-classifier/sweeps/0rczja0h</a>"
            ]
          },
          "metadata": {}
        },
        {
          "output_type": "display_data",
          "data": {
            "text/plain": [
              "<IPython.core.display.HTML object>"
            ],
            "text/html": [
              " View project at <a href='https://wandb.ai/usf-guardians/cnn-clothes-classifier' target=\"_blank\">https://wandb.ai/usf-guardians/cnn-clothes-classifier</a>"
            ]
          },
          "metadata": {}
        },
        {
          "output_type": "display_data",
          "data": {
            "text/plain": [
              "<IPython.core.display.HTML object>"
            ],
            "text/html": [
              " View sweep at <a href='https://wandb.ai/usf-guardians/cnn-clothes-classifier/sweeps/0rczja0h' target=\"_blank\">https://wandb.ai/usf-guardians/cnn-clothes-classifier/sweeps/0rczja0h</a>"
            ]
          },
          "metadata": {}
        },
        {
          "output_type": "display_data",
          "data": {
            "text/plain": [
              "<IPython.core.display.HTML object>"
            ],
            "text/html": [
              " View run at <a href='https://wandb.ai/usf-guardians/cnn-clothes-classifier/runs/1c822yg3' target=\"_blank\">https://wandb.ai/usf-guardians/cnn-clothes-classifier/runs/1c822yg3</a>"
            ]
          },
          "metadata": {}
        },
        {
          "output_type": "stream",
          "name": "stdout",
          "text": [
            "Epoch 1/20: Training...\n",
            "Epoch 2/20: Training...\n",
            "Epoch 3/20: Training...\n",
            "Epoch 4/20: Training...\n",
            "Epoch 5/20: Training...\n",
            "Epoch 6/20: Training...\n",
            "Epoch 7/20: Training...\n",
            "Epoch 8/20: Training...\n"
          ]
        }
      ]
    },
    {
      "cell_type": "markdown",
      "source": [
        "## 🎯 **Final Conclusion**\n",
        "Throughout these experiments, we systematically **designed, trained, and optimized a CNN model** for image classification.  \n",
        "\n",
        "✅ **Step 1: Architecture Selection**  \n",
        "We started with **Prince's best CNN model**, refining activation functions, pooling strategies, and weight initialization.  \n",
        "\n",
        "✅ **Step 2: Regularization Tuning**  \n",
        "Kathryn explored different **dropout rates, weight decay, and batch normalization**, identifying the best regularization strategy to improve generalization.  \n",
        "\n",
        "✅ **Step 3: Training Optimization**  \n",
        "Debjani optimized the **learning rate, optimizer, and batch size**, fine-tuning the training process for better convergence and efficiency.  \n",
        "\n",
        "🚀 **Final Takeaway**  \n",
        "By progressively improving the model, we **identified the best architectural choices, regularization techniques, and training configurations**, leading to a well-optimized CNN for the given dataset.  \n",
        "This structured approach ensures that our final model balances **accuracy, generalization, and training efficiency** effectively.\n"
      ],
      "metadata": {
        "id": "8ag0xIN3o67b"
      }
    }
  ]
}